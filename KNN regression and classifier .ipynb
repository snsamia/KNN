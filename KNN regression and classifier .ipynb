{
 "cells": [
  {
   "cell_type": "code",
   "execution_count": 1,
   "id": "e243cd71",
   "metadata": {},
   "outputs": [],
   "source": [
    "import pandas as pd\n",
    "import numpy as np\n",
    "import seaborn as sns\n",
    "from matplotlib import pyplot as plt\n",
    "import warnings \n",
    "warnings.filterwarnings('ignore')"
   ]
  },
  {
   "cell_type": "code",
   "execution_count": 2,
   "id": "d0ccd116",
   "metadata": {},
   "outputs": [],
   "source": [
    "df = pd.read_csv('H:\\\\AiQuest\\\\Ai& ML\\\\practice\\\\class 9\\\\weight-height.csv')"
   ]
  },
  {
   "cell_type": "code",
   "execution_count": 3,
   "id": "38b6275a",
   "metadata": {},
   "outputs": [
    {
     "data": {
      "text/html": [
       "<div>\n",
       "<style scoped>\n",
       "    .dataframe tbody tr th:only-of-type {\n",
       "        vertical-align: middle;\n",
       "    }\n",
       "\n",
       "    .dataframe tbody tr th {\n",
       "        vertical-align: top;\n",
       "    }\n",
       "\n",
       "    .dataframe thead th {\n",
       "        text-align: right;\n",
       "    }\n",
       "</style>\n",
       "<table border=\"1\" class=\"dataframe\">\n",
       "  <thead>\n",
       "    <tr style=\"text-align: right;\">\n",
       "      <th></th>\n",
       "      <th>Gender</th>\n",
       "      <th>Height</th>\n",
       "      <th>Weight</th>\n",
       "    </tr>\n",
       "  </thead>\n",
       "  <tbody>\n",
       "    <tr>\n",
       "      <th>0</th>\n",
       "      <td>Male</td>\n",
       "      <td>73.847017</td>\n",
       "      <td>241.893563</td>\n",
       "    </tr>\n",
       "    <tr>\n",
       "      <th>1</th>\n",
       "      <td>Male</td>\n",
       "      <td>68.781904</td>\n",
       "      <td>162.310473</td>\n",
       "    </tr>\n",
       "    <tr>\n",
       "      <th>2</th>\n",
       "      <td>Male</td>\n",
       "      <td>74.110105</td>\n",
       "      <td>212.740856</td>\n",
       "    </tr>\n",
       "    <tr>\n",
       "      <th>3</th>\n",
       "      <td>Male</td>\n",
       "      <td>71.730978</td>\n",
       "      <td>220.042470</td>\n",
       "    </tr>\n",
       "    <tr>\n",
       "      <th>4</th>\n",
       "      <td>Male</td>\n",
       "      <td>69.881796</td>\n",
       "      <td>206.349801</td>\n",
       "    </tr>\n",
       "  </tbody>\n",
       "</table>\n",
       "</div>"
      ],
      "text/plain": [
       "  Gender     Height      Weight\n",
       "0   Male  73.847017  241.893563\n",
       "1   Male  68.781904  162.310473\n",
       "2   Male  74.110105  212.740856\n",
       "3   Male  71.730978  220.042470\n",
       "4   Male  69.881796  206.349801"
      ]
     },
     "execution_count": 3,
     "metadata": {},
     "output_type": "execute_result"
    }
   ],
   "source": [
    "df.head()"
   ]
  },
  {
   "cell_type": "code",
   "execution_count": 4,
   "id": "f3503170",
   "metadata": {},
   "outputs": [
    {
     "name": "stdout",
     "output_type": "stream",
     "text": [
      "<class 'pandas.core.frame.DataFrame'>\n",
      "RangeIndex: 8555 entries, 0 to 8554\n",
      "Data columns (total 3 columns):\n",
      " #   Column  Non-Null Count  Dtype  \n",
      "---  ------  --------------  -----  \n",
      " 0   Gender  8555 non-null   object \n",
      " 1   Height  8555 non-null   float64\n",
      " 2   Weight  8555 non-null   float64\n",
      "dtypes: float64(2), object(1)\n",
      "memory usage: 200.6+ KB\n"
     ]
    }
   ],
   "source": [
    "df.info()"
   ]
  },
  {
   "cell_type": "code",
   "execution_count": 5,
   "id": "376932e2",
   "metadata": {},
   "outputs": [
    {
     "data": {
      "text/plain": [
       "Gender    0\n",
       "Height    0\n",
       "Weight    0\n",
       "dtype: int64"
      ]
     },
     "execution_count": 5,
     "metadata": {},
     "output_type": "execute_result"
    }
   ],
   "source": [
    "df.isnull().sum()"
   ]
  },
  {
   "cell_type": "code",
   "execution_count": 6,
   "id": "397af59a",
   "metadata": {},
   "outputs": [
    {
     "data": {
      "text/html": [
       "<div>\n",
       "<style scoped>\n",
       "    .dataframe tbody tr th:only-of-type {\n",
       "        vertical-align: middle;\n",
       "    }\n",
       "\n",
       "    .dataframe tbody tr th {\n",
       "        vertical-align: top;\n",
       "    }\n",
       "\n",
       "    .dataframe thead th {\n",
       "        text-align: right;\n",
       "    }\n",
       "</style>\n",
       "<table border=\"1\" class=\"dataframe\">\n",
       "  <thead>\n",
       "    <tr style=\"text-align: right;\">\n",
       "      <th></th>\n",
       "      <th>Height</th>\n",
       "      <th>Weight</th>\n",
       "    </tr>\n",
       "  </thead>\n",
       "  <tbody>\n",
       "    <tr>\n",
       "      <th>count</th>\n",
       "      <td>8555.000000</td>\n",
       "      <td>8555.000000</td>\n",
       "    </tr>\n",
       "    <tr>\n",
       "      <th>mean</th>\n",
       "      <td>66.809925</td>\n",
       "      <td>165.632735</td>\n",
       "    </tr>\n",
       "    <tr>\n",
       "      <th>std</th>\n",
       "      <td>3.851454</td>\n",
       "      <td>32.043922</td>\n",
       "    </tr>\n",
       "    <tr>\n",
       "      <th>min</th>\n",
       "      <td>54.616858</td>\n",
       "      <td>65.780000</td>\n",
       "    </tr>\n",
       "    <tr>\n",
       "      <th>25%</th>\n",
       "      <td>63.957684</td>\n",
       "      <td>139.876803</td>\n",
       "    </tr>\n",
       "    <tr>\n",
       "      <th>50%</th>\n",
       "      <td>66.985923</td>\n",
       "      <td>168.521567</td>\n",
       "    </tr>\n",
       "    <tr>\n",
       "      <th>75%</th>\n",
       "      <td>69.604427</td>\n",
       "      <td>190.666305</td>\n",
       "    </tr>\n",
       "    <tr>\n",
       "      <th>max</th>\n",
       "      <td>80.450000</td>\n",
       "      <td>269.989698</td>\n",
       "    </tr>\n",
       "  </tbody>\n",
       "</table>\n",
       "</div>"
      ],
      "text/plain": [
       "            Height       Weight\n",
       "count  8555.000000  8555.000000\n",
       "mean     66.809925   165.632735\n",
       "std       3.851454    32.043922\n",
       "min      54.616858    65.780000\n",
       "25%      63.957684   139.876803\n",
       "50%      66.985923   168.521567\n",
       "75%      69.604427   190.666305\n",
       "max      80.450000   269.989698"
      ]
     },
     "execution_count": 6,
     "metadata": {},
     "output_type": "execute_result"
    }
   ],
   "source": [
    "df.describe()"
   ]
  },
  {
   "cell_type": "code",
   "execution_count": 7,
   "id": "6b020433",
   "metadata": {},
   "outputs": [],
   "source": [
    "df1 = df.copy()\n"
   ]
  },
  {
   "cell_type": "markdown",
   "id": "3001d5eb",
   "metadata": {},
   "source": [
    "# One hot encoding"
   ]
  },
  {
   "cell_type": "code",
   "execution_count": 8,
   "id": "f854a5bc",
   "metadata": {},
   "outputs": [
    {
     "data": {
      "text/html": [
       "<div>\n",
       "<style scoped>\n",
       "    .dataframe tbody tr th:only-of-type {\n",
       "        vertical-align: middle;\n",
       "    }\n",
       "\n",
       "    .dataframe tbody tr th {\n",
       "        vertical-align: top;\n",
       "    }\n",
       "\n",
       "    .dataframe thead th {\n",
       "        text-align: right;\n",
       "    }\n",
       "</style>\n",
       "<table border=\"1\" class=\"dataframe\">\n",
       "  <thead>\n",
       "    <tr style=\"text-align: right;\">\n",
       "      <th></th>\n",
       "      <th>Height</th>\n",
       "      <th>Weight</th>\n",
       "      <th>Male</th>\n",
       "    </tr>\n",
       "  </thead>\n",
       "  <tbody>\n",
       "    <tr>\n",
       "      <th>0</th>\n",
       "      <td>73.847017</td>\n",
       "      <td>241.893563</td>\n",
       "      <td>1</td>\n",
       "    </tr>\n",
       "    <tr>\n",
       "      <th>1</th>\n",
       "      <td>68.781904</td>\n",
       "      <td>162.310473</td>\n",
       "      <td>1</td>\n",
       "    </tr>\n",
       "    <tr>\n",
       "      <th>2</th>\n",
       "      <td>74.110105</td>\n",
       "      <td>212.740856</td>\n",
       "      <td>1</td>\n",
       "    </tr>\n",
       "    <tr>\n",
       "      <th>3</th>\n",
       "      <td>71.730978</td>\n",
       "      <td>220.042470</td>\n",
       "      <td>1</td>\n",
       "    </tr>\n",
       "    <tr>\n",
       "      <th>4</th>\n",
       "      <td>69.881796</td>\n",
       "      <td>206.349801</td>\n",
       "      <td>1</td>\n",
       "    </tr>\n",
       "  </tbody>\n",
       "</table>\n",
       "</div>"
      ],
      "text/plain": [
       "      Height      Weight  Male\n",
       "0  73.847017  241.893563     1\n",
       "1  68.781904  162.310473     1\n",
       "2  74.110105  212.740856     1\n",
       "3  71.730978  220.042470     1\n",
       "4  69.881796  206.349801     1"
      ]
     },
     "execution_count": 8,
     "metadata": {},
     "output_type": "execute_result"
    }
   ],
   "source": [
    "from pandas.core.dtypes.common import is_numeric_dtype\n",
    "\n",
    "for col in df1.columns:\n",
    "    if is_numeric_dtype(df1[col]):\n",
    "        continue\n",
    "    one = pd.get_dummies(df1[col],drop_first=True)\n",
    "    df1.drop(df1[[col]], axis=1, inplace=True)\n",
    "    df1=pd.concat([df1,one], axis=1)\n",
    "df1.head()"
   ]
  },
  {
   "cell_type": "code",
   "execution_count": 9,
   "id": "116153f6",
   "metadata": {},
   "outputs": [
    {
     "data": {
      "text/html": [
       "<div>\n",
       "<style scoped>\n",
       "    .dataframe tbody tr th:only-of-type {\n",
       "        vertical-align: middle;\n",
       "    }\n",
       "\n",
       "    .dataframe tbody tr th {\n",
       "        vertical-align: top;\n",
       "    }\n",
       "\n",
       "    .dataframe thead th {\n",
       "        text-align: right;\n",
       "    }\n",
       "</style>\n",
       "<table border=\"1\" class=\"dataframe\">\n",
       "  <thead>\n",
       "    <tr style=\"text-align: right;\">\n",
       "      <th></th>\n",
       "      <th>Height</th>\n",
       "      <th>Weight</th>\n",
       "      <th>Male</th>\n",
       "    </tr>\n",
       "  </thead>\n",
       "  <tbody>\n",
       "    <tr>\n",
       "      <th>0</th>\n",
       "      <td>73.847017</td>\n",
       "      <td>241.893563</td>\n",
       "      <td>1</td>\n",
       "    </tr>\n",
       "    <tr>\n",
       "      <th>1</th>\n",
       "      <td>68.781904</td>\n",
       "      <td>162.310473</td>\n",
       "      <td>1</td>\n",
       "    </tr>\n",
       "    <tr>\n",
       "      <th>2</th>\n",
       "      <td>74.110105</td>\n",
       "      <td>212.740856</td>\n",
       "      <td>1</td>\n",
       "    </tr>\n",
       "    <tr>\n",
       "      <th>3</th>\n",
       "      <td>71.730978</td>\n",
       "      <td>220.042470</td>\n",
       "      <td>1</td>\n",
       "    </tr>\n",
       "    <tr>\n",
       "      <th>4</th>\n",
       "      <td>69.881796</td>\n",
       "      <td>206.349801</td>\n",
       "      <td>1</td>\n",
       "    </tr>\n",
       "    <tr>\n",
       "      <th>...</th>\n",
       "      <td>...</td>\n",
       "      <td>...</td>\n",
       "      <td>...</td>\n",
       "    </tr>\n",
       "    <tr>\n",
       "      <th>5005</th>\n",
       "      <td>65.968019</td>\n",
       "      <td>156.802083</td>\n",
       "      <td>0</td>\n",
       "    </tr>\n",
       "    <tr>\n",
       "      <th>5006</th>\n",
       "      <td>62.850379</td>\n",
       "      <td>114.969038</td>\n",
       "      <td>0</td>\n",
       "    </tr>\n",
       "    <tr>\n",
       "      <th>5007</th>\n",
       "      <td>65.652156</td>\n",
       "      <td>165.083001</td>\n",
       "      <td>0</td>\n",
       "    </tr>\n",
       "    <tr>\n",
       "      <th>5008</th>\n",
       "      <td>61.890234</td>\n",
       "      <td>111.676199</td>\n",
       "      <td>0</td>\n",
       "    </tr>\n",
       "    <tr>\n",
       "      <th>5009</th>\n",
       "      <td>63.677868</td>\n",
       "      <td>104.151560</td>\n",
       "      <td>0</td>\n",
       "    </tr>\n",
       "  </tbody>\n",
       "</table>\n",
       "<p>5010 rows × 3 columns</p>\n",
       "</div>"
      ],
      "text/plain": [
       "         Height      Weight  Male\n",
       "0     73.847017  241.893563     1\n",
       "1     68.781904  162.310473     1\n",
       "2     74.110105  212.740856     1\n",
       "3     71.730978  220.042470     1\n",
       "4     69.881796  206.349801     1\n",
       "...         ...         ...   ...\n",
       "5005  65.968019  156.802083     0\n",
       "5006  62.850379  114.969038     0\n",
       "5007  65.652156  165.083001     0\n",
       "5008  61.890234  111.676199     0\n",
       "5009  63.677868  104.151560     0\n",
       "\n",
       "[5010 rows x 3 columns]"
      ]
     },
     "execution_count": 9,
     "metadata": {},
     "output_type": "execute_result"
    }
   ],
   "source": [
    "df1.head(5010)"
   ]
  },
  {
   "cell_type": "code",
   "execution_count": 10,
   "id": "5af80fc7",
   "metadata": {},
   "outputs": [
    {
     "data": {
      "text/plain": [
       "<AxesSubplot:xlabel='Male', ylabel='count'>"
      ]
     },
     "execution_count": 10,
     "metadata": {},
     "output_type": "execute_result"
    },
    {
     "data": {
      "image/png": "[encoded data removed]",
      "text/plain": [
       "<Figure size 432x288 with 1 Axes>"
      ]
     },
     "metadata": {
      "needs_background": "light"
     },
     "output_type": "display_data"
    }
   ],
   "source": [
    "sns.countplot(df1['Male'], data = df1)"
   ]
  },
  {
   "cell_type": "code",
   "execution_count": 11,
   "id": "937eadf1",
   "metadata": {},
   "outputs": [
    {
     "data": {
      "text/plain": [
       "Text(0.5, 1.0, 'height vs gender')"
      ]
     },
     "execution_count": 11,
     "metadata": {},
     "output_type": "execute_result"
    },
    {
     "data": {
      "image/png": "[encoded data removed]",
      "text/plain": [
       "<Figure size 432x288 with 1 Axes>"
      ]
     },
     "metadata": {
      "needs_background": "light"
     },
     "output_type": "display_data"
    }
   ],
   "source": [
    "plt.scatter(df1['Height'],df1['Male'],color= '#00FF00',marker='*')\n",
    "plt.xlabel('Height ', color='green')\n",
    "plt.ylabel('Gender', color='blue')\n",
    "plt.title('height vs gender', color='#808000')"
   ]
  },
  {
   "cell_type": "code",
   "execution_count": 12,
   "id": "52e4fddb",
   "metadata": {},
   "outputs": [
    {
     "data": {
      "text/plain": [
       "Text(0.5, 1.0, ' weight vs gender')"
      ]
     },
     "execution_count": 12,
     "metadata": {},
     "output_type": "execute_result"
    },
    {
     "data": {
      "image/png": "[encoded data removed]",
      "text/plain": [
       "<Figure size 432x288 with 1 Axes>"
      ]
     },
     "metadata": {
      "needs_background": "light"
     },
     "output_type": "display_data"
    }
   ],
   "source": [
    "plt.scatter(df['Weight'], df1['Male'],color= '#FFA500',marker='*')\n",
    "plt.xlabel('Weight', color='green')\n",
    "plt.ylabel('Gender', color='#00FF00')\n",
    "plt.title(' weight vs gender', color='#800000')\n"
   ]
  },
  {
   "cell_type": "markdown",
   "id": "e32da096",
   "metadata": {},
   "source": [
    "# KNN Classifier"
   ]
  },
  {
   "cell_type": "code",
   "execution_count": 13,
   "id": "32acb96c",
   "metadata": {},
   "outputs": [],
   "source": [
    "x = df1.drop('Male', axis = 1)\n",
    "y = df1['Male']"
   ]
  },
  {
   "cell_type": "code",
   "execution_count": 14,
   "id": "8a79215f",
   "metadata": {},
   "outputs": [
    {
     "data": {
      "text/plain": [
       "KNeighborsClassifier(n_neighbors=93)"
      ]
     },
     "execution_count": 14,
     "metadata": {},
     "output_type": "execute_result"
    }
   ],
   "source": [
    "from sklearn.model_selection import train_test_split \n",
    "xtrain, xtest, ytrain, ytest=train_test_split(x,y,test_size=0.30,random_state=2)\n",
    "\n",
    "from sklearn.neighbors import KNeighborsClassifier\n",
    "neigh = KNeighborsClassifier(n_neighbors=93)\n",
    "\n",
    "neigh.fit(xtrain,ytrain)"
   ]
  },
  {
   "cell_type": "code",
   "execution_count": 15,
   "id": "37b1cd40",
   "metadata": {},
   "outputs": [
    {
     "name": "stdout",
     "output_type": "stream",
     "text": [
      "Male\n"
     ]
    }
   ],
   "source": [
    "if neigh.predict([[73.847017,241.893563]]) == 1:\n",
    "    print(\"Male\")\n",
    "else:\n",
    "    print(\"Female\")     "
   ]
  },
  {
   "cell_type": "code",
   "execution_count": 16,
   "id": "6dae33a0",
   "metadata": {},
   "outputs": [
    {
     "name": "stdout",
     "output_type": "stream",
     "text": [
      "Female\n"
     ]
    }
   ],
   "source": [
    "if neigh.predict([[65.968019,156.802083]]) == 1:\n",
    "    print(\"Male\")\n",
    "else:\n",
    "    print(\"Female\") "
   ]
  },
  {
   "cell_type": "code",
   "execution_count": 17,
   "id": "17785888",
   "metadata": {},
   "outputs": [
    {
     "data": {
      "text/plain": [
       "array([0, 0, 1, ..., 1, 0, 1], dtype=uint8)"
      ]
     },
     "execution_count": 17,
     "metadata": {},
     "output_type": "execute_result"
    }
   ],
   "source": [
    "y_prediction =  neigh.predict(xtest)\n",
    "y_prediction"
   ]
  },
  {
   "cell_type": "markdown",
   "id": "35f3bc1f",
   "metadata": {},
   "source": [
    "# Classification Report"
   ]
  },
  {
   "cell_type": "code",
   "execution_count": 18,
   "id": "3a2a0ca7",
   "metadata": {},
   "outputs": [
    {
     "name": "stdout",
     "output_type": "stream",
     "text": [
      "              precision    recall  f1-score   support\n",
      "\n",
      "           0       0.89      0.90      0.89      1058\n",
      "           1       0.93      0.92      0.93      1509\n",
      "\n",
      "    accuracy                           0.91      2567\n",
      "   macro avg       0.91      0.91      0.91      2567\n",
      "weighted avg       0.91      0.91      0.91      2567\n",
      "\n"
     ]
    }
   ],
   "source": [
    "from sklearn.metrics import   classification_report,accuracy_score,confusion_matrix, roc_curve, plot_roc_curve\n",
    "print(classification_report(ytest, y_prediction))"
   ]
  },
  {
   "cell_type": "code",
   "execution_count": 19,
   "id": "330384e4",
   "metadata": {},
   "outputs": [
    {
     "data": {
      "text/plain": [
       "array([[ 950,  108],\n",
       "       [ 117, 1392]], dtype=int64)"
      ]
     },
     "execution_count": 19,
     "metadata": {},
     "output_type": "execute_result"
    }
   ],
   "source": [
    "cm = confusion_matrix(ytest, y_prediction)\n",
    "cm"
   ]
  },
  {
   "cell_type": "code",
   "execution_count": 20,
   "id": "c6d99aa3",
   "metadata": {},
   "outputs": [
    {
     "data": {
      "text/plain": [
       "0.9123490455784963"
      ]
     },
     "execution_count": 20,
     "metadata": {},
     "output_type": "execute_result"
    }
   ],
   "source": [
    "neigh.score(xtest, ytest)"
   ]
  },
  {
   "cell_type": "code",
   "execution_count": 21,
   "id": "9df3325d",
   "metadata": {},
   "outputs": [
    {
     "data": {
      "text/plain": [
       "91.23490455784963"
      ]
     },
     "execution_count": 21,
     "metadata": {},
     "output_type": "execute_result"
    }
   ],
   "source": [
    "from sklearn import metrics\n",
    "metrics.accuracy_score(ytest, y_prediction) * 100"
   ]
  },
  {
   "cell_type": "code",
   "execution_count": 22,
   "id": "72eb9e87",
   "metadata": {},
   "outputs": [
    {
     "data": {
      "text/plain": [
       "<AxesSubplot:>"
      ]
     },
     "execution_count": 22,
     "metadata": {},
     "output_type": "execute_result"
    },
    {
     "data": {
      "image/png": "[encoded data removed]",
      "text/plain": [
       "<Figure size 432x288 with 2 Axes>"
      ]
     },
     "metadata": {
      "needs_background": "light"
     },
     "output_type": "display_data"
    }
   ],
   "source": [
    "plt.figure(figsize=(6,4))\n",
    "sns.heatmap(cm , annot = True)"
   ]
  },
  {
   "cell_type": "code",
   "execution_count": 23,
   "id": "0b46b597",
   "metadata": {},
   "outputs": [
    {
     "data": {
      "text/plain": [
       "[<matplotlib.lines.Line2D at 0x20eaf853b50>]"
      ]
     },
     "execution_count": 23,
     "metadata": {},
     "output_type": "execute_result"
    },
    {
     "data": {
      "image/png": "[encoded data removed]",
      "text/plain": [
       "<Figure size 432x288 with 1 Axes>"
      ]
     },
     "metadata": {
      "needs_background": "light"
     },
     "output_type": "display_data"
    }
   ],
   "source": [
    "plot_roc_curve(neigh, xtest, ytest)\n",
    "plt.plot([0,1],[0,1], 'go--')"
   ]
  },
  {
   "cell_type": "code",
   "execution_count": 24,
   "id": "96f36c24",
   "metadata": {},
   "outputs": [],
   "source": [
    "import sklearn.metrics\n",
    "import math\n",
    "\n",
    "def matrix_metrix(ytest,y_prediction):\n",
    "   CM = confusion_matrix(ytest,y_prediction)\n",
    "\n",
    "   TP = CM[0][0]\n",
    "   TN = CM[1][1]\n",
    "   FP = CM[1][0] \n",
    "   FN = CM[0][1]\n",
    "   \n",
    "   Population = TN+FN+TP+FP\n",
    "   Prevalence = round( (TP+FP) / Population,2)\n",
    "   Accuracy   = round( (TP+TN) / Population,4)\n",
    "   Precision  = round( TP / (TP+FP),4 )         # positive predictive rate (ppv)     \n",
    "   NPV        = round( TN / (TN+FN),4 )\n",
    "   FDR        = round( FP / (TP+FP),4 )         # false discovery rate\n",
    "   TPR        = round( TP / (TP+FN),4 )         # true positive rate\n",
    "   \n",
    "   \n",
    "   Recall     = round( TP / (TP+FN),4 )         # true positive rate\n",
    "   FPR        = round( FP / (TN+FP),4 )         # false positive rate or 1-specificity\n",
    "   FNR        = round( FN / (TP+FN),4 )\n",
    "   TNR        = round( TN / (TN+FP),4 )         # specificity\n",
    "   CSI        = round( TP / (TP+FN+FP),4 )      # threat score (TS) or crticical success index CSI\n",
    "   \n",
    "   \n",
    "   \n",
    "   F1_measure = round ( ((Precision+Recall) / 2),4)   #  F1 measure\n",
    "   F1         = round ( 2 * ((Precision*Recall)/(Precision+Recall)),4)    #  harmonic mean or F1 score\n",
    "   \n",
    "   BA         = round ( ((TPR+ TNR) / 2),4)     #balanced accuracy\n",
    "   \n",
    "   mat_met = pd.DataFrame({\n",
    "\n",
    "'Metric':['TP','TN','FP','FN','Population','Prevalence','Accuracy','Precision','NPV','FDR','TPR','Recall','FPR','FNR','TNR','CSI','F1_measure','F1','BA'],     'Value':[TP,TN,FP,FN,Population,Prevalence,Accuracy,Precision,NPV,FDR,TPR,Recall,FPR,FNR,TNR,CSI,F1_measure,F1,BA]})\n",
    "   return (mat_met)\n"
   ]
  },
  {
   "cell_type": "code",
   "execution_count": 25,
   "id": "e316ab17",
   "metadata": {},
   "outputs": [
    {
     "name": "stdout",
     "output_type": "stream",
     "text": [
      "        Metric      Value\n",
      "0           TP   950.0000\n",
      "1           TN  1392.0000\n",
      "2           FP   117.0000\n",
      "3           FN   108.0000\n",
      "4   Population  2567.0000\n",
      "5   Prevalence     0.4200\n",
      "6     Accuracy     0.9123\n",
      "7    Precision     0.8903\n",
      "8          NPV     0.9280\n",
      "9          FDR     0.1097\n",
      "10         TPR     0.8979\n",
      "11      Recall     0.8979\n",
      "12         FPR     0.0775\n",
      "13         FNR     0.1021\n",
      "14         TNR     0.9225\n",
      "15         CSI     0.8085\n",
      "16  F1_measure     0.8941\n",
      "17          F1     0.8941\n",
      "18          BA     0.9102\n"
     ]
    }
   ],
   "source": [
    "mat_met = matrix_metrix(ytest,y_prediction)\n",
    "print (mat_met)"
   ]
  },
  {
   "cell_type": "markdown",
   "id": "1359a504",
   "metadata": {},
   "source": [
    "# KNN Regression"
   ]
  },
  {
   "cell_type": "code",
   "execution_count": 26,
   "id": "de5d4b82",
   "metadata": {},
   "outputs": [],
   "source": [
    "df2 = df1.copy()"
   ]
  },
  {
   "cell_type": "code",
   "execution_count": 27,
   "id": "92e59c71",
   "metadata": {},
   "outputs": [],
   "source": [
    "x = df2.drop('Weight', axis = 1)\n",
    "y = df2['Weight']"
   ]
  },
  {
   "cell_type": "code",
   "execution_count": 28,
   "id": "a43a3db2",
   "metadata": {},
   "outputs": [
    {
     "data": {
      "text/plain": [
       "KNeighborsRegressor(n_neighbors=93)"
      ]
     },
     "execution_count": 28,
     "metadata": {},
     "output_type": "execute_result"
    }
   ],
   "source": [
    "from sklearn.model_selection import train_test_split \n",
    "xtrain, xtest, ytrain, ytest=train_test_split(x, y, test_size=0.30,random_state=2)\n",
    "\n",
    "from sklearn.neighbors import KNeighborsRegressor\n",
    "neigh_regression = KNeighborsRegressor(n_neighbors=93)\n",
    "\n",
    "neigh_regression.fit(xtrain,ytrain)"
   ]
  },
  {
   "cell_type": "code",
   "execution_count": 29,
   "id": "ec4d84fe",
   "metadata": {},
   "outputs": [
    {
     "data": {
      "text/plain": [
       "array([215.97740531])"
      ]
     },
     "execution_count": 29,
     "metadata": {},
     "output_type": "execute_result"
    }
   ],
   "source": [
    "neigh_regression.predict([[73.847017, 1]])"
   ]
  },
  {
   "cell_type": "code",
   "execution_count": 30,
   "id": "4070e94f",
   "metadata": {},
   "outputs": [
    {
     "data": {
      "text/plain": [
       "array([152.48662108, 159.65050522, 192.46943875, ..., 222.77222726,\n",
       "       169.9447301 , 186.66826581])"
      ]
     },
     "execution_count": 30,
     "metadata": {},
     "output_type": "execute_result"
    }
   ],
   "source": [
    "y_pred=  neigh_regression.predict(xtest)\n",
    "y_pred"
   ]
  },
  {
   "cell_type": "code",
   "execution_count": 31,
   "id": "04891e09",
   "metadata": {},
   "outputs": [
    {
     "data": {
      "text/plain": [
       "array([135.6308771, 138.0926359, 190.3244396, ..., 219.1132095,\n",
       "       156.6766747, 178.6855465])"
      ]
     },
     "execution_count": 31,
     "metadata": {},
     "output_type": "execute_result"
    }
   ],
   "source": [
    "np.array(ytest)"
   ]
  },
  {
   "cell_type": "markdown",
   "id": "7ff4ba95",
   "metadata": {},
   "source": [
    "# MSE"
   ]
  },
  {
   "cell_type": "code",
   "execution_count": 32,
   "id": "3a6bc9bf",
   "metadata": {},
   "outputs": [
    {
     "data": {
      "text/plain": [
       "102.78990568183197"
      ]
     },
     "execution_count": 32,
     "metadata": {},
     "output_type": "execute_result"
    }
   ],
   "source": [
    "from  sklearn.metrics import  mean_squared_error\n",
    "mse= mean_squared_error(ytest,y_pred)\n",
    "mse"
   ]
  },
  {
   "cell_type": "markdown",
   "id": "cf01e960",
   "metadata": {},
   "source": [
    "# MAE"
   ]
  },
  {
   "cell_type": "code",
   "execution_count": 33,
   "id": "f466f20f",
   "metadata": {},
   "outputs": [
    {
     "data": {
      "text/plain": [
       "8.011883701101489"
      ]
     },
     "execution_count": 33,
     "metadata": {},
     "output_type": "execute_result"
    }
   ],
   "source": [
    "from  sklearn.metrics import  mean_absolute_error\n",
    "mae= mean_absolute_error(ytest,y_pred)\n",
    "mae"
   ]
  },
  {
   "cell_type": "markdown",
   "id": "684e6557",
   "metadata": {},
   "source": [
    "# Accuracy"
   ]
  },
  {
   "cell_type": "code",
   "execution_count": 34,
   "id": "52ed3db0",
   "metadata": {},
   "outputs": [
    {
     "data": {
      "text/plain": [
       "0.8998431748994545"
      ]
     },
     "execution_count": 34,
     "metadata": {},
     "output_type": "execute_result"
    }
   ],
   "source": [
    "neigh_regression.score(xtest, ytest)"
   ]
  },
  {
   "cell_type": "code",
   "execution_count": 35,
   "id": "b197276c",
   "metadata": {},
   "outputs": [
    {
     "data": {
      "text/plain": [
       "0.8970794817196001"
      ]
     },
     "execution_count": 35,
     "metadata": {},
     "output_type": "execute_result"
    }
   ],
   "source": [
    "neigh_regression.score(xtrain, ytrain)"
   ]
  },
  {
   "cell_type": "code",
   "execution_count": null,
   "id": "08db896e",
   "metadata": {},
   "outputs": [],
   "source": []
  },
  {
   "cell_type": "markdown",
   "id": "980d01fc",
   "metadata": {},
   "source": [
    "# Linear Regression"
   ]
  },
  {
   "cell_type": "code",
   "execution_count": 36,
   "id": "f29a5163",
   "metadata": {},
   "outputs": [],
   "source": [
    "df3 = df1.copy()"
   ]
  },
  {
   "cell_type": "code",
   "execution_count": 37,
   "id": "59eb211e",
   "metadata": {},
   "outputs": [],
   "source": [
    "x = df1.drop('Weight', axis = 1)\n",
    "y = df1['Weight']"
   ]
  },
  {
   "cell_type": "code",
   "execution_count": 38,
   "id": "d491e510",
   "metadata": {},
   "outputs": [
    {
     "data": {
      "text/plain": [
       "LinearRegression()"
      ]
     },
     "execution_count": 38,
     "metadata": {},
     "output_type": "execute_result"
    }
   ],
   "source": [
    "from sklearn.model_selection import train_test_split \n",
    "xtrain, xtest, ytrain, ytest=train_test_split(x,y,test_size=0.30,random_state=2)\n",
    "\n",
    "from sklearn.linear_model import LinearRegression\n",
    "linear_reg = LinearRegression()\n",
    "\n",
    "linear_reg.fit(xtrain,ytrain)"
   ]
  },
  {
   "cell_type": "code",
   "execution_count": 39,
   "id": "554e109f",
   "metadata": {},
   "outputs": [
    {
     "data": {
      "text/plain": [
       "array([215.73185652])"
      ]
     },
     "execution_count": 39,
     "metadata": {},
     "output_type": "execute_result"
    }
   ],
   "source": [
    "linear_reg.predict([[73.847017, 1]])"
   ]
  },
  {
   "cell_type": "code",
   "execution_count": 40,
   "id": "66814963",
   "metadata": {},
   "outputs": [
    {
     "data": {
      "text/plain": [
       "array([151.09452981, 159.65636907, 195.28013188, ..., 224.29551941,\n",
       "       170.296596  , 187.99709823])"
      ]
     },
     "execution_count": 40,
     "metadata": {},
     "output_type": "execute_result"
    }
   ],
   "source": [
    "y_pred=  linear_reg.predict(xtest)\n",
    "y_pred"
   ]
  },
  {
   "cell_type": "code",
   "execution_count": 41,
   "id": "c2e3f389",
   "metadata": {},
   "outputs": [
    {
     "data": {
      "text/plain": [
       "array([135.6308771, 138.0926359, 190.3244396, ..., 219.1132095,\n",
       "       156.6766747, 178.6855465])"
      ]
     },
     "execution_count": 41,
     "metadata": {},
     "output_type": "execute_result"
    }
   ],
   "source": [
    "np.array(ytest)"
   ]
  },
  {
   "cell_type": "markdown",
   "id": "dd5dbb42",
   "metadata": {},
   "source": [
    "# MSE"
   ]
  },
  {
   "cell_type": "code",
   "execution_count": 42,
   "id": "20e5043c",
   "metadata": {},
   "outputs": [
    {
     "data": {
      "text/plain": [
       "98.58171971089342"
      ]
     },
     "execution_count": 42,
     "metadata": {},
     "output_type": "execute_result"
    }
   ],
   "source": [
    "from  sklearn.metrics import  mean_squared_error\n",
    "mse= mean_squared_error(ytest,y_pred)\n",
    "mse"
   ]
  },
  {
   "cell_type": "markdown",
   "id": "c051572c",
   "metadata": {},
   "source": [
    "# MAE"
   ]
  },
  {
   "cell_type": "code",
   "execution_count": 43,
   "id": "eb76d288",
   "metadata": {},
   "outputs": [
    {
     "data": {
      "text/plain": [
       "7.870801028640494"
      ]
     },
     "execution_count": 43,
     "metadata": {},
     "output_type": "execute_result"
    }
   ],
   "source": [
    "from  sklearn.metrics import  mean_absolute_error\n",
    "mae= mean_absolute_error(ytest,y_pred)\n",
    "mae"
   ]
  },
  {
   "cell_type": "markdown",
   "id": "153ed3b8",
   "metadata": {},
   "source": [
    "# Accuracy"
   ]
  },
  {
   "cell_type": "code",
   "execution_count": 44,
   "id": "63a5ef3f",
   "metadata": {},
   "outputs": [
    {
     "data": {
      "text/plain": [
       "0.9039435633907765"
      ]
     },
     "execution_count": 44,
     "metadata": {},
     "output_type": "execute_result"
    }
   ],
   "source": [
    "linear_reg.score(xtest, ytest)"
   ]
  },
  {
   "cell_type": "code",
   "execution_count": 45,
   "id": "c5110704",
   "metadata": {},
   "outputs": [
    {
     "data": {
      "text/plain": [
       "0.8982420247072804"
      ]
     },
     "execution_count": 45,
     "metadata": {},
     "output_type": "execute_result"
    }
   ],
   "source": [
    "linear_reg.score(xtrain, ytrain)"
   ]
  },
  {
   "cell_type": "markdown",
   "id": "b87ec768",
   "metadata": {},
   "source": [
    "# Decision Tree"
   ]
  },
  {
   "cell_type": "code",
   "execution_count": 46,
   "id": "c9f91ce5",
   "metadata": {},
   "outputs": [],
   "source": [
    "df4 = df1.copy()"
   ]
  },
  {
   "cell_type": "code",
   "execution_count": 47,
   "id": "53f2e16e",
   "metadata": {},
   "outputs": [],
   "source": [
    "x = df4.drop('Male', axis = 1)\n",
    "y = df4['Male']"
   ]
  },
  {
   "cell_type": "code",
   "execution_count": 48,
   "id": "b552ff39",
   "metadata": {},
   "outputs": [],
   "source": [
    "from sklearn.model_selection import train_test_split\n",
    "x_train, x_test, y_train, y_test = train_test_split(x,y, test_size=.30, random_state=1)"
   ]
  },
  {
   "cell_type": "code",
   "execution_count": 49,
   "id": "585e7101",
   "metadata": {},
   "outputs": [
    {
     "data": {
      "text/plain": [
       "DecisionTreeClassifier()"
      ]
     },
     "execution_count": 49,
     "metadata": {},
     "output_type": "execute_result"
    }
   ],
   "source": [
    "from sklearn.tree import DecisionTreeClassifier\n",
    "clf = DecisionTreeClassifier()\n",
    "clf.fit(x_train,y_train)"
   ]
  },
  {
   "cell_type": "code",
   "execution_count": 50,
   "id": "4c525119",
   "metadata": {},
   "outputs": [
    {
     "data": {
      "text/plain": [
       "array([1, 1, 1, ..., 0, 1, 1], dtype=uint8)"
      ]
     },
     "execution_count": 50,
     "metadata": {},
     "output_type": "execute_result"
    }
   ],
   "source": [
    "y_prediction = clf.predict(x_test)\n",
    "y_prediction"
   ]
  },
  {
   "cell_type": "code",
   "execution_count": 51,
   "id": "233c5617",
   "metadata": {},
   "outputs": [
    {
     "name": "stdout",
     "output_type": "stream",
     "text": [
      "              precision    recall  f1-score   support\n",
      "\n",
      "           0       0.87      0.84      0.86      1055\n",
      "           1       0.89      0.91      0.90      1512\n",
      "\n",
      "    accuracy                           0.88      2567\n",
      "   macro avg       0.88      0.88      0.88      2567\n",
      "weighted avg       0.88      0.88      0.88      2567\n",
      "\n"
     ]
    }
   ],
   "source": [
    "from sklearn.metrics import   classification_report,accuracy_score,confusion_matrix, roc_curve, plot_roc_curve\n",
    "print(classification_report(y_test, y_prediction))"
   ]
  },
  {
   "cell_type": "code",
   "execution_count": 52,
   "id": "9cecb80e",
   "metadata": {},
   "outputs": [
    {
     "data": {
      "text/plain": [
       "array([[ 890,  165],\n",
       "       [ 135, 1377]], dtype=int64)"
      ]
     },
     "execution_count": 52,
     "metadata": {},
     "output_type": "execute_result"
    }
   ],
   "source": [
    "cm = confusion_matrix(y_test, y_prediction)\n",
    "cm"
   ]
  },
  {
   "cell_type": "code",
   "execution_count": 53,
   "id": "0bd76d14",
   "metadata": {},
   "outputs": [
    {
     "data": {
      "text/plain": [
       "0.8831320607713284"
      ]
     },
     "execution_count": 53,
     "metadata": {},
     "output_type": "execute_result"
    }
   ],
   "source": [
    "clf.score(x_test, y_test)"
   ]
  },
  {
   "cell_type": "code",
   "execution_count": 54,
   "id": "bc90cf3a",
   "metadata": {},
   "outputs": [
    {
     "name": "stdout",
     "output_type": "stream",
     "text": [
      "88.31320607713285\n"
     ]
    }
   ],
   "source": [
    "accuracy = accuracy_score(y_test, y_prediction)\n",
    "print(accuracy * 100)"
   ]
  },
  {
   "cell_type": "code",
   "execution_count": 55,
   "id": "3555fb99",
   "metadata": {},
   "outputs": [
    {
     "data": {
      "text/plain": [
       "<AxesSubplot:>"
      ]
     },
     "execution_count": 55,
     "metadata": {},
     "output_type": "execute_result"
    },
    {
     "data": {
      "image/png": "[encoded data removed]",
      "text/plain": [
       "<Figure size 432x288 with 2 Axes>"
      ]
     },
     "metadata": {
      "needs_background": "light"
     },
     "output_type": "display_data"
    }
   ],
   "source": [
    "plt.figure(figsize=(6,4))\n",
    "sns.heatmap(cm , annot = True)"
   ]
  },
  {
   "cell_type": "markdown",
   "id": "8bacb76b",
   "metadata": {},
   "source": [
    "# ROC CURVE"
   ]
  },
  {
   "cell_type": "code",
   "execution_count": 56,
   "id": "3fd2e90d",
   "metadata": {},
   "outputs": [
    {
     "data": {
      "text/plain": [
       "[<matplotlib.lines.Line2D at 0x20eafa18c10>]"
      ]
     },
     "execution_count": 56,
     "metadata": {},
     "output_type": "execute_result"
    },
    {
     "data": {
      "image/png": "[encoded data removed]",
      "text/plain": [
       "<Figure size 432x288 with 1 Axes>"
      ]
     },
     "metadata": {
      "needs_background": "light"
     },
     "output_type": "display_data"
    }
   ],
   "source": [
    "plot_roc_curve(clf, x_test, y_test)\n",
    "plt.plot([0,1],[0,1], 'go--')"
   ]
  },
  {
   "cell_type": "code",
   "execution_count": 57,
   "id": "34d5aee2",
   "metadata": {},
   "outputs": [],
   "source": [
    "import sklearn.metrics\n",
    "import math\n",
    "\n",
    "def matrix_metrix(y_test,y_prediction):\n",
    "   CM = confusion_matrix(y_test,y_prediction)\n",
    "\n",
    "   TP = CM[0][0]\n",
    "   TN = CM[1][1]\n",
    "   FP = CM[1][0] \n",
    "   FN = CM[0][1]\n",
    "   \n",
    "   Population = TN+FN+TP+FP\n",
    "   Prevalence = round( (TP+FP) / Population,2)\n",
    "   Accuracy   = round( (TP+TN) / Population,4)\n",
    "   Precision  = round( TP / (TP+FP),4 )         # positive predictive rate (ppv)     \n",
    "   NPV        = round( TN / (TN+FN),4 )\n",
    "   FDR        = round( FP / (TP+FP),4 )         # false discovery rate\n",
    "   TPR        = round( TP / (TP+FN),4 )         # true positive rate\n",
    "   \n",
    "   \n",
    "   Recall     = round( TP / (TP+FN),4 )         # true positive rate\n",
    "   FPR        = round( FP / (TN+FP),4 )         # false positive rate or 1-specificity\n",
    "   FNR        = round( FN / (TP+FN),4 )\n",
    "   TNR        = round( TN / (TN+FP),4 )         # specificity\n",
    "   CSI        = round( TP / (TP+FN+FP),4 )      # threat score (TS) or crticical success index CSI\n",
    "   \n",
    "   \n",
    "   \n",
    "   F1_measure = round ( ((Precision+Recall) / 2),4)   #  F1 measure\n",
    "   F1         = round ( 2 * ((Precision*Recall)/(Precision+Recall)),4)    #  harmonic mean or F1 score\n",
    "   \n",
    "   BA         = round ( ((TPR+ TNR) / 2),4)     #balanced accuracy\n",
    "   \n",
    "   mat_met = pd.DataFrame({\n",
    "\n",
    "'Metric':['TP','TN','FP','FN','Population','Prevalence','Accuracy','Precision','NPV','FDR','TPR','Recall','FPR','FNR','TNR','CSI','F1_measure','F1','BA'],     'Value':[TP,TN,FP,FN,Population,Prevalence,Accuracy,Precision,NPV,FDR,TPR,Recall,FPR,FNR,TNR,CSI,F1_measure,F1,BA]})\n",
    "   return (mat_met)\n"
   ]
  },
  {
   "cell_type": "code",
   "execution_count": 58,
   "id": "fc2709ac",
   "metadata": {},
   "outputs": [
    {
     "name": "stdout",
     "output_type": "stream",
     "text": [
      "        Metric      Value\n",
      "0           TP   890.0000\n",
      "1           TN  1377.0000\n",
      "2           FP   135.0000\n",
      "3           FN   165.0000\n",
      "4   Population  2567.0000\n",
      "5   Prevalence     0.4000\n",
      "6     Accuracy     0.8831\n",
      "7    Precision     0.8683\n",
      "8          NPV     0.8930\n",
      "9          FDR     0.1317\n",
      "10         TPR     0.8436\n",
      "11      Recall     0.8436\n",
      "12         FPR     0.0893\n",
      "13         FNR     0.1564\n",
      "14         TNR     0.9107\n",
      "15         CSI     0.7479\n",
      "16  F1_measure     0.8560\n",
      "17          F1     0.8558\n",
      "18          BA     0.8772\n"
     ]
    }
   ],
   "source": [
    "mat_met = matrix_metrix(y_test,y_prediction)\n",
    "print (mat_met)"
   ]
  },
  {
   "cell_type": "code",
   "execution_count": null,
   "id": "fc34a3e8",
   "metadata": {},
   "outputs": [],
   "source": []
  }
 ],
 "metadata": {
  "kernelspec": {
   "display_name": "Python 3 (ipykernel)",
   "language": "python",
   "name": "python3"
  },
  "language_info": {
   "codemirror_mode": {
    "name": "ipython",
    "version": 3
   },
   "file_extension": ".py",
   "mimetype": "text/x-python",
   "name": "python",
   "nbconvert_exporter": "python",
   "pygments_lexer": "ipython3",
   "version": "3.9.12"
  }
 },
 "nbformat": 4,
 "nbformat_minor": 5
}
